{
 "cells": [
  {
   "cell_type": "code",
   "execution_count": 1,
   "metadata": {},
   "outputs": [],
   "source": [
    "# Import library\n",
    "import seaborn as sns # for visualisation\n",
    "import matplotlib.pyplot as plt # for visualisation\n",
    "import pandas as pd # for importing and manipulating data\n",
    "# from datetime import date\n",
    "import missingno as msno # for checking missing data\n",
    "import os # for working with local directory\n",
    "import shapefile\n",
    "from mpl_toolkits.basemap import Basemap\n",
    "import geopandas as gpd"
   ]
  }
 ],
 "metadata": {
  "kernelspec": {
   "display_name": "Python 3",
   "language": "python",
   "name": "python3"
  },
  "language_info": {
   "codemirror_mode": {
    "name": "ipython",
    "version": 3
   },
   "file_extension": ".py",
   "mimetype": "text/x-python",
   "name": "python",
   "nbconvert_exporter": "python",
   "pygments_lexer": "ipython3",
   "version": "3.11.3"
  },
  "orig_nbformat": 4
 },
 "nbformat": 4,
 "nbformat_minor": 2
}
